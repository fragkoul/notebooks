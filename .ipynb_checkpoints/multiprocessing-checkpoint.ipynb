{
 "cells": [
  {
   "cell_type": "markdown",
   "metadata": {},
   "source": [
    "### Trend in seasonal-mean zonal wind at 300hPa"
   ]
  },
  {
   "cell_type": "code",
   "execution_count": 1,
   "metadata": {},
   "outputs": [],
   "source": [
    "from numpy import zeros, array, reshape\n",
    "from netCDF4 import Dataset\n",
    "import pymannkendall as mk # Theil-Sen trend estimation with Mann-Kendall significance testing\n",
    "from multiprocessing import Pool, cpu_count\n",
    "from functools import partial\n",
    "cores = cpu_count()-2"
   ]
  },
  {
   "cell_type": "code",
   "execution_count": 2,
   "metadata": {},
   "outputs": [],
   "source": [
    "# Import file\n",
    "filein = Dataset('era5_u300_79-18_6hourly_seasmean_DJF.nc',mode='r',format='NETCDF4')\n",
    "# Read longitudes and latitudes\n",
    "lons = filein.variables['lon'][:10]\n",
    "lats = filein.variables['lat'][:20]\n",
    "noLons = len(lons)\n",
    "noLats = len(lats)\n",
    "# Wind data\n",
    "u = filein.variables['u'][:,0,:20,:10]"
   ]
  },
  {
   "cell_type": "code",
   "execution_count": 3,
   "metadata": {},
   "outputs": [],
   "source": [
    "slope_u1 = zeros((noLats,noLons))\n",
    "slope_u2 = zeros((noLats,noLons))"
   ]
  },
  {
   "cell_type": "code",
   "execution_count": 4,
   "metadata": {},
   "outputs": [
    {
     "name": "stdout",
     "output_type": "stream",
     "text": [
      "[0.09825857 0.10068184 0.10101101 0.11094779 0.11006507 0.11167692\n",
      " 0.11394577 0.11621568 0.12188019 0.12534196] \n",
      " (20, 10) 0.11167691662198022\n",
      "CPU times: user 316 ms, sys: 800 µs, total: 316 ms\n",
      "Wall time: 316 ms\n"
     ]
    }
   ],
   "source": [
    "%%time\n",
    "# Simple loop\n",
    "for i in range(noLats):\n",
    "    for j in range(noLons):\n",
    "        trend_tuple1 = mk.original_test(u[:,i,j], alpha=0.1)\n",
    "        slope_u1[i,j] = trend_tuple1[7]\n",
    "\n",
    "print(slope_u1[2,:], '\\n', slope_u1.shape, slope_u1[2,5])"
   ]
  },
  {
   "cell_type": "code",
   "execution_count": 5,
   "metadata": {},
   "outputs": [
    {
     "name": "stdout",
     "output_type": "stream",
     "text": [
      "[0.09825857 0.10068184 0.10101101 0.11094779 0.11006507 0.11167692\n",
      " 0.11394577 0.11621568 0.12188019 0.12534196] \n",
      " (20, 10) 0.11167691662198022\n",
      "CPU times: user 13.3 ms, sys: 21 ms, total: 34.3 ms\n",
      "Wall time: 130 ms\n"
     ]
    }
   ],
   "source": [
    "%%time\n",
    "# Multiprocessing\n",
    "\n",
    "def loop1(i,j):\n",
    "    trend_tuple2 = mk.original_test(u[:,i,j], alpha=0.1)\n",
    "    return trend_tuple2[7]\n",
    "    \n",
    "p = Pool(cores)\n",
    "slope_u2 = reshape(array(p.starmap(partial(loop1), [(i,j) for i in range(noLats) for j in range(noLons)])), (noLats, noLons))\n",
    "p.close()\n",
    "p.join()\n",
    "\n",
    "print(slope_u1[2,:], '\\n', slope_u1.shape, slope_u1[2,5])"
   ]
  },
  {
   "cell_type": "code",
   "execution_count": null,
   "metadata": {},
   "outputs": [],
   "source": []
  },
  {
   "cell_type": "code",
   "execution_count": null,
   "metadata": {},
   "outputs": [],
   "source": []
  }
 ],
 "metadata": {
  "kernelspec": {
   "display_name": "Python 3",
   "language": "python",
   "name": "python3"
  },
  "language_info": {
   "codemirror_mode": {
    "name": "ipython",
    "version": 3
   },
   "file_extension": ".py",
   "mimetype": "text/x-python",
   "name": "python",
   "nbconvert_exporter": "python",
   "pygments_lexer": "ipython3",
   "version": "3.7.6"
  }
 },
 "nbformat": 4,
 "nbformat_minor": 4
}
